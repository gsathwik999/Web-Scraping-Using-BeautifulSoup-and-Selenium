{
  "nbformat": 4,
  "nbformat_minor": 0,
  "metadata": {
    "colab": {
      "provenance": []
    },
    "kernelspec": {
      "name": "python3",
      "display_name": "Python 3"
    },
    "language_info": {
      "name": "python"
    }
  },
  "cells": [
    {
      "cell_type": "code",
      "execution_count": null,
      "metadata": {
        "id": "1ZO6nzFkbyjl"
      },
      "outputs": [],
      "source": [
        "from bs4 import BeautifulSoup as soup\n",
        "import requests\n",
        "\n",
        "url=\"https://iamanidiotm.wixsite.com/budgetbuyers\"\n",
        "req=requests.get(url)\n",
        "sp=soup(req.text,\"html.parser\")\n",
        "head=sp.find_all('h3',{\"class\":'s__4pfRyK o__9BxiYc---typography-11-runningText o__9BxiYc---priority-7-primary syHtuvM FzO_a9'})\n",
        "price=sp.find_all('span', {\"class\" : 'cfpn1d FNAPPI'})\n",
        "min_length = min(len(head), len(price))\n",
        "combined_data=[]\n",
        "for i in range(min_length):\n",
        "  head_txt=head[i].text\n",
        "  price_txt=price[i].text\n",
        "  combined_data.append([head_txt, price_txt])"
      ]
    }
  ]
}