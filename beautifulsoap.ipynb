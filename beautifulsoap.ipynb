{
 "cells": [
  {
   "cell_type": "code",
   "execution_count": null,
   "metadata": {
    "id": "1ZO6nzFkbyjl"
   },
   "outputs": [],
   "source": [
    "import openpyxl\n",
    "from bs4 import BeautifulSoup\n",
    "\n",
    "with open('bigbasket.html', 'r', encoding='utf-8') as file:\n",
    "    html_content = file.read()\n",
    "\n",
    "soup = BeautifulSoup(html_content, 'html.parser')\n",
    "\n",
    "divs = soup.find_all('div', class_='SmartBasketContainer___StyledSKU-sc-1mzgw61-5 gjWhLd')\n",
    "\n",
    "product_names = []\n",
    "product_prices = []\n",
    "quantities = []\n",
    "\n",
    "for div in divs:\n",
    "\n",
    "    product_name = div.find('h3', class_='block m-0 line-clamp-2 font-regular text-base leading-sm text-darkOnyx-800 pt-0.5 h-full')\n",
    "    if product_name:\n",
    "        product_names.append(product_name.text.strip())\n",
    "    else:\n",
    "        product_names.append(\" \")\n",
    "\n",
    "\n",
    "    product_price = div.find('span', class_='Label-sc-15v1nk5-0 Pricing___StyledLabel-sc-pldi2d-1 gJxZPQ AypOi')\n",
    "    if product_price:\n",
    "        product_prices.append(product_price.text.strip())\n",
    "    else:\n",
    "        product_prices.append(\" \")\n",
    "\n",
    "\n",
    "    quantity = div.find('span', class_=\"Label-sc-15v1nk5-0 PackChanger___StyledLabel-sc-newjpv-1 gJxZPQ cWbtUx\")\n",
    "    if quantity:\n",
    "        quantities.append(quantity.text.strip())\n",
    "    else:\n",
    "        quantities.append(\" \")\n",
    "\n",
    "\n",
    "workbook = openpyxl.Workbook()\n",
    "sheet = workbook.active\n",
    "\n",
    "\n",
    "sheet.append([\"Product Name\", \"Product Price\", \"Quantity\"])\n",
    "\n",
    "for name, price, qty in zip(product_names, product_prices, quantities):\n",
    "    sheet.append([name, price, qty])\n",
    "\n",
    "workbook.save('products.xlsx')\n",
    "\n",
    "print(\"Data has been written to products.xlsx\")\n"
   ]
  }
 ],
 "metadata": {
  "colab": {
   "provenance": []
  },
  "kernelspec": {
   "display_name": "Python 3",
   "name": "python3"
  },
  "language_info": {
   "name": "python"
  }
 },
 "nbformat": 4,
 "nbformat_minor": 0
}
